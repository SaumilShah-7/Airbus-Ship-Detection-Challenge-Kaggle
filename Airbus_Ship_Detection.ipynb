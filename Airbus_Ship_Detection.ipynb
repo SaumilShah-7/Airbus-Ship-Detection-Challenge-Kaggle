{
  "nbformat": 4,
  "nbformat_minor": 0,
  "metadata": {
    "colab": {
      "name": "Airbus Ship Detection.ipynb",
      "provenance": [],
      "include_colab_link": true
    },
    "kernelspec": {
      "name": "python3",
      "display_name": "Python 3"
    },
    "accelerator": "GPU"
  },
  "cells": [
    {
      "cell_type": "markdown",
      "metadata": {
        "id": "view-in-github",
        "colab_type": "text"
      },
      "source": [
        "<a href=\"https://colab.research.google.com/github/SaumilShah-7/Airbus-Ship-Detection-Challenge-Kaggle/blob/master/Airbus_Ship_Detection.ipynb\" target=\"_parent\"><img src=\"https://colab.research.google.com/assets/colab-badge.svg\" alt=\"Open In Colab\"/></a>"
      ]
    },
    {
      "cell_type": "code",
      "metadata": {
        "id": "qxst8ReMlkCi",
        "colab_type": "code",
        "outputId": "2eb81a0d-5de2-4bb6-d32c-36c80c41548f",
        "colab": {
          "base_uri": "https://localhost:8080/",
          "height": 52
        }
      },
      "source": [
        "try:\n",
        "  %tensorflow_version 2.x\n",
        "except Exception:\n",
        "  pass\n",
        "\n",
        "import tensorflow as tf\n",
        "print(tf.__version__)\n",
        "\n",
        "import pandas as pd\n",
        "import numpy as np\n",
        "import matplotlib.pyplot as plt\n",
        "from PIL import Image\n",
        "import os\n",
        "import seaborn as sns\n",
        "from sklearn.model_selection import train_test_split"
      ],
      "execution_count": 1,
      "outputs": [
        {
          "output_type": "stream",
          "text": [
            "TensorFlow 2.x selected.\n",
            "2.0.0\n"
          ],
          "name": "stdout"
        }
      ]
    },
    {
      "cell_type": "code",
      "metadata": {
        "id": "OTQCVEkEpQv2",
        "colab_type": "code",
        "colab": {}
      },
      "source": [
        "!pip install -q kaggle\n",
        "!mkdir -p ~/.kaggle\n",
        "!cp kaggle.json ~/.kaggle/\n",
        "!chmod 600 ~/.kaggle/kaggle.json"
      ],
      "execution_count": 0,
      "outputs": []
    },
    {
      "cell_type": "code",
      "metadata": {
        "id": "Y6yXIohpp1HH",
        "colab_type": "code",
        "outputId": "0d3574fc-7bad-4c45-9de2-5eab4da4824e",
        "colab": {
          "base_uri": "https://localhost:8080/",
          "height": 243
        }
      },
      "source": [
        "!kaggle competitions download -c airbus-ship-detection"
      ],
      "execution_count": 3,
      "outputs": [
        {
          "output_type": "stream",
          "text": [
            "Warning: Looks like you're using an outdated API Version, please consider updating (server 1.5.6 / client 1.5.4)\n",
            "Downloading sample_submission_v2.csv to /content\n",
            "\r  0% 0.00/274k [00:00<?, ?B/s]\n",
            "100% 274k/274k [00:00<00:00, 83.4MB/s]\n",
            "Downloading train_ship_segmentations_v2.csv.zip to /content\n",
            " 50% 9.00M/18.0M [00:00<00:00, 18.0MB/s]\n",
            "100% 18.0M/18.0M [00:00<00:00, 36.6MB/s]\n",
            "Downloading test_v2.zip to /content\n",
            "100% 2.12G/2.12G [00:31<00:00, 118MB/s]\n",
            "100% 2.12G/2.12G [00:31<00:00, 71.7MB/s]\n",
            "Downloading train_v2.zip to /content\n",
            "100% 26.4G/26.4G [04:18<00:00, 97.4MB/s]\n",
            "100% 26.4G/26.4G [04:18<00:00, 110MB/s] \n"
          ],
          "name": "stdout"
        }
      ]
    },
    {
      "cell_type": "code",
      "metadata": {
        "id": "QvWRQiccp6KQ",
        "colab_type": "code",
        "colab": {}
      },
      "source": [
        "!unzip -q train_v2.zip -d train\n",
        "!unzip -q train_ship_segmentations_v2.csv.zip -d train_ship_segmentations\n",
        "!unzip -q test_v2.zip -d test\n",
        "\n",
        "!rm -rf train_v2.zip\n",
        "!rm -rf train_ship_segmentations_v2.csv.zip\n",
        "!rm -rf test_v2.zip"
      ],
      "execution_count": 0,
      "outputs": []
    },
    {
      "cell_type": "code",
      "metadata": {
        "id": "ymHm1KDqesNt",
        "colab_type": "code",
        "colab": {}
      },
      "source": [
        "df = pd.read_csv('train_ship_segmentations/train_ship_segmentations_v2.csv')\n",
        "\n",
        "print(len(df['ImageId'].unique()), len([name for name in os.listdir('train')]))\n",
        "\n",
        "df['Count'] = df['EncodedPixels'].notnull()*1\n",
        "df_h = df.groupby(['ImageId'])['Count'].sum()\n",
        "\n",
        "print(pd.concat([df_h.value_counts(), df_h.value_counts(normalize=True)], axis=1))\n",
        "sns.countplot(df_h)"
      ],
      "execution_count": 0,
      "outputs": []
    },
    {
      "cell_type": "code",
      "metadata": {
        "id": "f8CN88REAOTN",
        "colab_type": "code",
        "colab": {}
      },
      "source": [
        "df_u = pd.DataFrame({'ImageId': df_h.index, 'Shipnum': df_h.values})\n",
        "df_u['Filesize'] = df_u['ImageId'].apply(lambda x: os.path.getsize('train/'+x)/1024)\n",
        "\n",
        "print(df_u.shape[0])\n",
        "df_u = df_u[df_u['Filesize'] > 50]\n",
        "print(df_u.shape[0])\n",
        "\n",
        "# import shutil\n",
        "# os.makedirs('50-60')\n",
        "# for index, row in df_u.iterrows():\n",
        "#   if row['Filesize'] < 60 and row['Filesize'] >= 50:\n",
        "#     shutil.copy('train/'+row['ImageId'], '50-60')\n",
        "#   else:\n",
        "#     pass\n",
        "  \n",
        "# !zip -r 50-60.zip 50-60\n",
        "# !rm -rf 50-60"
      ],
      "execution_count": 0,
      "outputs": []
    },
    {
      "cell_type": "code",
      "metadata": {
        "id": "vYi_Qj8YnQEQ",
        "colab_type": "code",
        "colab": {}
      },
      "source": [
        "image_height = 768\n",
        "image_width = 768\n",
        "\n",
        "def rle_decode(img_id):\n",
        "  img_rle = [*df.loc[df['ImageId']==img_id]['EncodedPixels']]\n",
        "  mask = np.zeros(image_height*image_width, dtype=np.uint8)\n",
        "  for x in img_rle:\n",
        "    x = x.split(' ')\n",
        "    for i in range(0, len(x), 2):\n",
        "      mask[int(x[i]):int(x[i])+int(x[i+1])]=255\n",
        "  return Image.fromarray(mask.reshape(image_height, image_width).astype(np.uint8).T)"
      ],
      "execution_count": 0,
      "outputs": []
    },
    {
      "cell_type": "code",
      "metadata": {
        "id": "xd9ddbYi9j1K",
        "colab_type": "code",
        "colab": {}
      },
      "source": [
        "from IPython.display import display\n",
        "\n",
        "# print(df_u[df_u==5])\n",
        "\n",
        "img = Image.open('train/000194a2d.jpg')\n",
        "display(img)\n",
        "\n",
        "img1 = rle_decode('000194a2d.jpg')\n",
        "display(img1)"
      ],
      "execution_count": 0,
      "outputs": []
    },
    {
      "cell_type": "code",
      "metadata": {
        "id": "MPrfDXywnN_P",
        "colab_type": "code",
        "colab": {}
      },
      "source": [
        "train_df, test_df = train_test_split(df_u, test_size=0.2, stratify=df_u['Shipnum'])\n",
        "\n",
        "print(train_df.shape[0], test_df.shape[0])"
      ],
      "execution_count": 0,
      "outputs": []
    },
    {
      "cell_type": "code",
      "metadata": {
        "id": "uUlwxAnLmkGf",
        "colab_type": "code",
        "colab": {}
      },
      "source": [
        "if not os.path.exists('mask'):\n",
        "  os.makedirs('mask')\n",
        "\n",
        "for name in os.listdir('train'):\n",
        "  if df_h[name]!=0:\n",
        "    img = rle_decode(name)\n",
        "    img.save('mask/'+name, 'JPEG')"
      ],
      "execution_count": 0,
      "outputs": []
    }
  ]
}