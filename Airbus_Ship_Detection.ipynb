{
  "nbformat": 4,
  "nbformat_minor": 0,
  "metadata": {
    "colab": {
      "name": "Airbus Ship Detection.ipynb",
      "provenance": [],
      "include_colab_link": true
    },
    "kernelspec": {
      "name": "python3",
      "display_name": "Python 3"
    },
    "accelerator": "GPU"
  },
  "cells": [
    {
      "cell_type": "markdown",
      "metadata": {
        "id": "view-in-github",
        "colab_type": "text"
      },
      "source": [
        "<a href=\"https://colab.research.google.com/github/SaumilShah-7/Airbus-Ship-Detection-Challenge-Kaggle/blob/master/Airbus_Ship_Detection.ipynb\" target=\"_parent\"><img src=\"https://colab.research.google.com/assets/colab-badge.svg\" alt=\"Open In Colab\"/></a>"
      ]
    },
    {
      "cell_type": "code",
      "metadata": {
        "id": "qxst8ReMlkCi",
        "colab_type": "code",
        "outputId": "dafa7fa7-354c-435c-deb2-781d3fd99f0a",
        "colab": {
          "base_uri": "https://localhost:8080/",
          "height": 35
        }
      },
      "source": [
        "try:\n",
        "  %tensorflow_version 2.x\n",
        "except Exception:\n",
        "  pass\n",
        "\n",
        "import tensorflow as tf\n",
        "print(tf.__version__)\n",
        "\n",
        "import pandas as pd\n",
        "import numpy as np\n",
        "import matplotlib.pyplot as plt\n",
        "from PIL import Image\n",
        "import os\n",
        "import seaborn as sns\n",
        "from sklearn.model_selection import train_test_split"
      ],
      "execution_count": 10,
      "outputs": [
        {
          "output_type": "stream",
          "text": [
            "2.0.0\n"
          ],
          "name": "stdout"
        }
      ]
    },
    {
      "cell_type": "code",
      "metadata": {
        "id": "OTQCVEkEpQv2",
        "colab_type": "code",
        "colab": {}
      },
      "source": [
        "!pip install -q kaggle\n",
        "!mkdir -p ~/.kaggle\n",
        "!cp kaggle.json ~/.kaggle/\n",
        "!chmod 600 ~/.kaggle/kaggle.json"
      ],
      "execution_count": 0,
      "outputs": []
    },
    {
      "cell_type": "code",
      "metadata": {
        "id": "Y6yXIohpp1HH",
        "colab_type": "code",
        "outputId": "432f63c0-0fcb-43b5-8ec6-b9ccfc890984",
        "colab": {
          "base_uri": "https://localhost:8080/",
          "height": 243
        }
      },
      "source": [
        "!kaggle competitions download -c airbus-ship-detection"
      ],
      "execution_count": 3,
      "outputs": [
        {
          "output_type": "stream",
          "text": [
            "Warning: Looks like you're using an outdated API Version, please consider updating (server 1.5.6 / client 1.5.4)\n",
            "Downloading sample_submission_v2.csv to /content\n",
            "\r  0% 0.00/274k [00:00<?, ?B/s]\n",
            "\r100% 274k/274k [00:00<00:00, 41.0MB/s]\n",
            "Downloading train_ship_segmentations_v2.csv.zip to /content\n",
            " 28% 5.00M/18.0M [00:00<00:00, 32.5MB/s]\n",
            "100% 18.0M/18.0M [00:00<00:00, 86.7MB/s]\n",
            "Downloading test_v2.zip to /content\n",
            "100% 2.12G/2.12G [00:22<00:00, 162MB/s]\n",
            "100% 2.12G/2.12G [00:22<00:00, 101MB/s]\n",
            "Downloading train_v2.zip to /content\n",
            "100% 26.4G/26.4G [03:36<00:00, 200MB/s]\n",
            "100% 26.4G/26.4G [03:36<00:00, 131MB/s]\n"
          ],
          "name": "stdout"
        }
      ]
    },
    {
      "cell_type": "code",
      "metadata": {
        "id": "QvWRQiccp6KQ",
        "colab_type": "code",
        "colab": {}
      },
      "source": [
        "!unzip -q train_v2.zip -d train\n",
        "!unzip -q train_ship_segmentations_v2.csv.zip -d train_ship_segmentations\n",
        "!unzip -q test_v2.zip -d test\n",
        "\n",
        "!rm -rf train_v2.zip\n",
        "!rm -rf train_ship_segmentations_v2.csv.zip\n",
        "!rm -rf test_v2.zip"
      ],
      "execution_count": 0,
      "outputs": []
    },
    {
      "cell_type": "code",
      "metadata": {
        "id": "ymHm1KDqesNt",
        "colab_type": "code",
        "outputId": "5113acb1-4654-4373-fc59-79d0ed9bae6c",
        "colab": {
          "base_uri": "https://localhost:8080/",
          "height": 609
        }
      },
      "source": [
        "df = pd.read_csv('train_ship_segmentations/train_ship_segmentations_v2.csv')\n",
        "\n",
        "print(len(df['ImageId'].unique()), len([name for name in os.listdir('train')]))\n",
        "\n",
        "df['Count'] = df['EncodedPixels'].notnull()*1\n",
        "df_h = df.groupby(['ImageId'])['Count'].sum()\n",
        "\n",
        "print(pd.concat([df_h.value_counts(), df_h.value_counts(normalize=True)], axis=1))\n",
        "sns.countplot(df_h)"
      ],
      "execution_count": 5,
      "outputs": [
        {
          "output_type": "stream",
          "text": [
            "192556 192556\n",
            "     Count     Count\n",
            "0   150000  0.778994\n",
            "1    27104  0.140759\n",
            "2     7674  0.039853\n",
            "3     2954  0.015341\n",
            "4     1622  0.008424\n",
            "5      925  0.004804\n",
            "6      657  0.003412\n",
            "7      406  0.002108\n",
            "8      318  0.001651\n",
            "9      243  0.001262\n",
            "10     168  0.000872\n",
            "11     144  0.000748\n",
            "12     124  0.000644\n",
            "14      76  0.000395\n",
            "13      75  0.000389\n",
            "15      66  0.000343\n"
          ],
          "name": "stdout"
        },
        {
          "output_type": "execute_result",
          "data": {
            "text/plain": [
              "<matplotlib.axes._subplots.AxesSubplot at 0x7fbf0803dfd0>"
            ]
          },
          "metadata": {
            "tags": []
          },
          "execution_count": 5
        },
        {
          "output_type": "display_data",
          "data": {
            "image/png": "[encoded data removed]",
            "text/plain": [
              "<Figure size 432x288 with 1 Axes>"
            ]
          },
          "metadata": {
            "tags": []
          }
        }
      ]
    },
    {
      "cell_type": "code",
      "metadata": {
        "id": "f8CN88REAOTN",
        "colab_type": "code",
        "outputId": "b80a34e7-d282-4d16-e9fc-38c6afa1ed69",
        "colab": {
          "base_uri": "https://localhost:8080/",
          "height": 283
        }
      },
      "source": [
        "df_u = pd.DataFrame({'ImageId': df_h.index, 'Shipnum': df_h.values})\n",
        "df_u['Filesize'] = df_u['ImageId'].apply(lambda x: os.path.getsize('train/'+x)/1024)\n",
        "df_u = df_u[(df_u['Filesize'] > 50) | (df_u['Shipnum'] > 0)]\n",
        "df_u['Filesize'].hist()"
      ],
      "execution_count": 19,
      "outputs": [
        {
          "output_type": "execute_result",
          "data": {
            "text/plain": [
              "<matplotlib.axes._subplots.AxesSubplot at 0x7fbf03531080>"
            ]
          },
          "metadata": {
            "tags": []
          },
          "execution_count": 19
        },
        {
          "output_type": "display_data",
          "data": {
            "image/png": "[encoded data removed]",
            "text/plain": [
              "<Figure size 432x288 with 1 Axes>"
            ]
          },
          "metadata": {
            "tags": []
          }
        }
      ]
    },
    {
      "cell_type": "code",
      "metadata": {
        "id": "vYi_Qj8YnQEQ",
        "colab_type": "code",
        "colab": {}
      },
      "source": [
        "image_height = 768\n",
        "image_width = 768\n",
        "\n",
        "def rle_decode(img_id):\n",
        "  img_rle = [*df.loc[df['ImageId']==img_id]['EncodedPixels']]\n",
        "  mask = np.zeros(image_height*image_width, dtype=np.uint8)\n",
        "  for x in img_rle:\n",
        "    x = x.split(' ')\n",
        "    for i in range(0, len(x), 2):\n",
        "      mask[int(x[i]):int(x[i])+int(x[i+1])]=255\n",
        "  return Image.fromarray(mask.reshape(image_height, image_width).astype(np.uint8).T)"
      ],
      "execution_count": 0,
      "outputs": []
    },
    {
      "cell_type": "code",
      "metadata": {
        "id": "xd9ddbYi9j1K",
        "colab_type": "code",
        "colab": {}
      },
      "source": [
        "from IPython.display import display\n",
        "\n",
        "# print(df_u[df_u==5])\n",
        "\n",
        "img = Image.open('train/000194a2d.jpg')\n",
        "display(img)\n",
        "\n",
        "img1 = rle_decode('000194a2d.jpg')\n",
        "display(img1)"
      ],
      "execution_count": 0,
      "outputs": []
    },
    {
      "cell_type": "code",
      "metadata": {
        "id": "Ldqq6nBrxrO7",
        "colab_type": "code",
        "colab": {
          "base_uri": "https://localhost:8080/",
          "height": 35
        },
        "outputId": "d4eb3176-4697-46fc-84fc-a1f25610958a"
      },
      "source": [
        "train_df, test_df = train_test_split(df_u, test_size=0.2, stratify=df_u['Shipnum'])\n",
        "print(train_df.shape[0], test_df.shape[0])"
      ],
      "execution_count": 20,
      "outputs": [
        {
          "output_type": "stream",
          "text": [
            "153479 38370\n"
          ],
          "name": "stdout"
        }
      ]
    },
    {
      "cell_type": "code",
      "metadata": {
        "id": "uUlwxAnLmkGf",
        "colab_type": "code",
        "colab": {}
      },
      "source": [
        "if not os.path.exists('mask'):\n",
        "  os.makedirs('mask')\n",
        "\n",
        "for name in os.listdir('train'):\n",
        "  if df_h[name]!=0:\n",
        "    img = rle_decode(name)\n",
        "    img.save('mask/'+name, 'JPEG')"
      ],
      "execution_count": 0,
      "outputs": []
    }
  ]
}